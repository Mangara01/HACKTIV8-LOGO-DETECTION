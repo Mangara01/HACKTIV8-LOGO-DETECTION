{
  "nbformat": 4,
  "nbformat_minor": 0,
  "metadata": {
    "colab": {
      "provenance": [],
      "authorship_tag": "ABX9TyO/lLGduw1Q7em3gN1y0Hz2",
      "include_colab_link": true
    },
    "kernelspec": {
      "name": "python3",
      "display_name": "Python 3"
    },
    "language_info": {
      "name": "python"
    }
  },
  "cells": [
    {
      "cell_type": "markdown",
      "metadata": {
        "id": "view-in-github",
        "colab_type": "text"
      },
      "source": [
        "<a href=\"https://colab.research.google.com/github/H8-Assignments-Bay/p2---ftds-019-rmt---m2-Mangara01/blob/main/h8dsft_P2M2_Mangara_Siagian_inference.ipynb\" target=\"_parent\"><img src=\"https://colab.research.google.com/assets/colab-badge.svg\" alt=\"Open In Colab\"/></a>"
      ]
    },
    {
      "cell_type": "markdown",
      "source": [
        "# <font color='blue'> x. Model Inference </font>"
      ],
      "metadata": {
        "id": "r49VO8yGD9Wy"
      }
    },
    {
      "cell_type": "code",
      "execution_count": 1,
      "metadata": {
        "id": "ze705OGJCz4_"
      },
      "outputs": [],
      "source": [
        "# Import Library used\n",
        "import numpy as np\n",
        "import matplotlib.pyplot as plt\n",
        "import tensorflow as tf\n",
        "from tensorflow.keras.models import load_model"
      ]
    },
    {
      "cell_type": "code",
      "source": [
        "# Load the Models\n",
        "model = load_model(\"logo_model.h5\")"
      ],
      "metadata": {
        "colab": {
          "base_uri": "https://localhost:8080/"
        },
        "id": "tExO1bITDRIm",
        "outputId": "1550de99-566d-42ef-edc0-b79a0e8912d6"
      },
      "execution_count": 2,
      "outputs": [
        {
          "output_type": "stream",
          "name": "stderr",
          "text": [
            "WARNING:tensorflow:Error in loading the saved optimizer state. As a result, your model is starting with a freshly initialized optimizer.\n"
          ]
        }
      ]
    },
    {
      "cell_type": "code",
      "source": [
        "# Create function\n",
        "def predict_logo(image_path):\n",
        "    img = tf.keras.utils.load_img(image_path, target_size=(70, 70))\n",
        "    plt.imshow(img)\n",
        "    plt.axis('off')\n",
        "    plt.show()\n",
        "\n",
        "    x = tf.keras.utils.img_to_array(img)\n",
        "    x = np.expand_dims(x, axis=0) \n",
        "\n",
        "    images = np.vstack([x])\n",
        "    classes = model.predict(images)\n",
        "    result_pred = tf.where(classes < 0.7, 0, 1)\n",
        "\n",
        "    if result_pred[0][0] == 1:\n",
        "        print(\"Prediction: Real logo\")\n",
        "    else:\n",
        "        print(\"Prediction: Fake logo\")"
      ],
      "metadata": {
        "id": "WLdYNNqgDTN7"
      },
      "execution_count": 3,
      "outputs": []
    },
    {
      "cell_type": "markdown",
      "source": [
        "### **TEST NEW DATA**"
      ],
      "metadata": {
        "id": "tXcHRB3KEPSt"
      }
    },
    {
      "cell_type": "code",
      "source": [
        "# Test New Data\n",
        "image_path = \"adidas.jpg\"  \n",
        "predict_logo(image_path)"
      ],
      "metadata": {
        "id": "CaX693TvDVAZ",
        "colab": {
          "base_uri": "https://localhost:8080/",
          "height": 441
        },
        "outputId": "30a2ca9b-0e2f-4c3c-8d8e-80491e62374f"
      },
      "execution_count": 4,
      "outputs": [
        {
          "output_type": "display_data",
          "data": {
            "text/plain": [
              "<Figure size 640x480 with 1 Axes>"
            ],
            "image/png": "[encoded data removed]"
          },
          "metadata": {}
        },
        {
          "output_type": "stream",
          "name": "stdout",
          "text": [
            "1/1 [==============================] - 0s 113ms/step\n",
            "Prediction: Real logo\n"
          ]
        }
      ]
    }
  ]
}